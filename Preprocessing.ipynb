{
 "cells": [
  {
   "cell_type": "code",
   "execution_count": 1,
   "id": "d6263afc-383d-4782-a902-d06f8fbd00f2",
   "metadata": {},
   "outputs": [],
   "source": [
    "import numpy as np \n",
    "import pandas as pd \n",
    "# To display all the columns of dataframe\n",
    "pd.set_option('display.max_columns', 500)\n",
    "import warnings\n",
    "warnings.filterwarnings(\"ignore\")"
   ]
  },
  {
   "cell_type": "code",
   "execution_count": 2,
   "id": "0087c81f-4f1d-455a-a3ab-2a3738454e67",
   "metadata": {},
   "outputs": [],
   "source": [
    "df = pd.read_csv(\"C://Users//LENOVO//Downloads//Bondora_raw//Bondora_raw.csv\",low_memory=False) "
   ]
  },
  {
   "cell_type": "code",
   "execution_count": 3,
   "id": "4908f6e5-fccd-4bfc-93c8-c1dcee92750d",
   "metadata": {},
   "outputs": [
    {
     "data": {
      "text/plain": [
       "(134529, 112)"
      ]
     },
     "execution_count": 3,
     "metadata": {},
     "output_type": "execute_result"
    }
   ],
   "source": [
    "df.shape"
   ]
  },
  {
   "cell_type": "code",
   "execution_count": 4,
   "id": "ca8db887-807c-45bc-81d5-0b5f2239c77a",
   "metadata": {},
   "outputs": [
    {
     "name": "stdout",
     "output_type": "stream",
     "text": [
      "24.374988717249494\n"
     ]
    }
   ],
   "source": [
    "total_cells = np.product(df.shape)\n",
    "total_missing_values = df.isnull().sum().sum()\n",
    "\n",
    "# percent of data that is missing\n",
    "missing_percentage = (total_missing_values/total_cells) * 100\n",
    "print(missing_percentage)"
   ]
  },
  {
   "cell_type": "code",
   "execution_count": 5,
   "id": "09ada74f-a979-43b0-a738-b7118c00d226",
   "metadata": {},
   "outputs": [
    {
     "data": {
      "text/plain": [
       "ContractEndDate                        56.155922\n",
       "NrOfDependants                         73.537304\n",
       "EmploymentPosition                     73.173070\n",
       "WorkExperience                         72.851950\n",
       "PlannedPrincipalTillDate               59.518765\n",
       "CurrentDebtDaysPrimary                 63.934914\n",
       "DebtOccuredOn                          63.934914\n",
       "CurrentDebtDaysSecondary               61.160791\n",
       "DebtOccuredOnForSecondary              61.160791\n",
       "DefaultDate                            68.099815\n",
       "PlannedPrincipalPostDefault            68.099815\n",
       "PlannedInterestPostDefault             68.099815\n",
       "EAD1                                   68.099815\n",
       "EAD2                                   68.099815\n",
       "PrincipalRecovery                      68.099815\n",
       "InterestRecovery                       68.099815\n",
       "RecoveryStage                          42.584127\n",
       "EL_V0                                  96.603706\n",
       "Rating_V0                              96.603706\n",
       "EL_V1                                  90.394636\n",
       "Rating_V1                              90.394636\n",
       "Rating_V2                              81.310349\n",
       "ActiveLateCategory                     63.934914\n",
       "CreditScoreEsEquifaxRisk               90.917200\n",
       "CreditScoreFiAsiakasTietoRiskGrade     75.828260\n",
       "CreditScoreEeMini                      46.686588\n",
       "PrincipalWriteOffs                     56.047395\n",
       "InterestAndPenaltyWriteOffs            56.047395\n",
       "PreviousEarlyRepaymentsBefoleLoan      56.867293\n",
       "GracePeriodStart                       86.034238\n",
       "GracePeriodEnd                         86.034238\n",
       "NextPaymentDate                        51.204573\n",
       "ReScheduledOn                          70.027280\n",
       "PrincipalDebtServicingCost             56.047395\n",
       "InterestAndPenaltyDebtServicingCost    56.047395\n",
       "ActiveLateLastPaymentCategory          61.160791\n",
       "dtype: float64"
      ]
     },
     "execution_count": 5,
     "metadata": {},
     "output_type": "execute_result"
    }
   ],
   "source": [
    "DropColumnList = df.columns[(df.isnull().mean()*100) >= 40].tolist()\n",
    "df[DropColumnList].isnull().mean()*100"
   ]
  },
  {
   "cell_type": "code",
   "execution_count": 6,
   "id": "e66e2fa6-1ce2-4c2a-9562-3c548d2901cb",
   "metadata": {},
   "outputs": [
    {
     "name": "stdout",
     "output_type": "stream",
     "text": [
      "['ContractEndDate', 'NrOfDependants', 'EmploymentPosition', 'WorkExperience', 'PlannedPrincipalTillDate', 'CurrentDebtDaysPrimary', 'DebtOccuredOn', 'CurrentDebtDaysSecondary', 'DebtOccuredOnForSecondary', 'PlannedPrincipalPostDefault', 'PlannedInterestPostDefault', 'EAD1', 'EAD2', 'PrincipalRecovery', 'InterestRecovery', 'RecoveryStage', 'EL_V0', 'Rating_V0', 'EL_V1', 'Rating_V1', 'Rating_V2', 'ActiveLateCategory', 'CreditScoreEsEquifaxRisk', 'CreditScoreFiAsiakasTietoRiskGrade', 'CreditScoreEeMini', 'PrincipalWriteOffs', 'InterestAndPenaltyWriteOffs', 'PreviousEarlyRepaymentsBefoleLoan', 'GracePeriodStart', 'GracePeriodEnd', 'NextPaymentDate', 'ReScheduledOn', 'PrincipalDebtServicingCost', 'InterestAndPenaltyDebtServicingCost', 'ActiveLateLastPaymentCategory']\n"
     ]
    }
   ],
   "source": [
    "column_to_keep = \"DefaultDate\"  # Replace with the column you want to keep\n",
    "if column_to_keep in DropColumnList:\n",
    "    DropColumnList.remove(column_to_keep)\n",
    "    print(DropColumnList)"
   ]
  },
  {
   "cell_type": "code",
   "execution_count": 7,
   "id": "5d0304cc-554e-434d-a76d-cc42b8ee05ec",
   "metadata": {},
   "outputs": [
    {
     "data": {
      "text/plain": [
       "35"
      ]
     },
     "execution_count": 7,
     "metadata": {},
     "output_type": "execute_result"
    }
   ],
   "source": [
    "len(DropColumnList)"
   ]
  },
  {
   "cell_type": "code",
   "execution_count": 8,
   "id": "cb6449d6-e01d-45af-9577-3d79245a862d",
   "metadata": {},
   "outputs": [],
   "source": [
    "df.drop(columns= DropColumnList, axis= 1, inplace=True)"
   ]
  },
  {
   "cell_type": "code",
   "execution_count": 10,
   "id": "07905e4a-0dde-4ffc-9c56-58fcda247015",
   "metadata": {},
   "outputs": [
    {
     "data": {
      "text/plain": [
       "(134529, 77)"
      ]
     },
     "execution_count": 10,
     "metadata": {},
     "output_type": "execute_result"
    }
   ],
   "source": [
    "df.shape"
   ]
  },
  {
   "cell_type": "code",
   "execution_count": 11,
   "id": "8fc21ca6-4ce3-42a1-ba26-ecb20cef2fc6",
   "metadata": {},
   "outputs": [],
   "source": [
    "#Removing the features which are not useful for our analysis\n",
    "df.drop(columns=['LoanId', 'LoanNumber', 'UserName', 'DateOfBirth', 'County', 'City', 'NextPaymentNr', 'NrOfScheduledPayments', 'ApplicationSignedHour', 'ApplicationSignedWeekday', \n",
    "                 'ActiveScheduleFirstPaymentReached', 'PlannedInterestTillDate', 'ExpectedLoss','LossGivenDefault',\n",
    "                'ExpectedReturn', 'ProbabilityOfDefault', 'PrincipalOverdueBySchedule', 'StageActiveSince', \n",
    "                'ModelVersion', 'WorseLateCategory'], inplace = True)"
   ]
  },
  {
   "cell_type": "code",
   "execution_count": 12,
   "id": "154b061a-f71a-4b1f-8cbc-6f6aa93e9e40",
   "metadata": {},
   "outputs": [],
   "source": [
    "#Removing the features which are related to Income as the Income Total is already present \n",
    "df.drop(columns=['IncomeFromPrincipalEmployer', 'IncomeFromLeavePay', 'IncomeFromPension', 'IncomeFromFamilyAllowance', 'IncomeFromSocialWelfare',\n",
    "                 'IncomeFromChildSupport', 'IncomeOther'], inplace = True)"
   ]
  },
  {
   "cell_type": "code",
   "execution_count": 13,
   "id": "ee10eaa9-080d-42ed-aa26-30f3b39ba135",
   "metadata": {},
   "outputs": [],
   "source": [
    "#removing unnecessary date related features as we not gonna work on time series analysis\n",
    "df.drop(columns=['ReportAsOfEOD', 'ListedOnUTC', 'BiddingStartedOn', 'LoanApplicationStartedDate', 'LastPaymentOn','MonthlyPaymentDay','LoanDate', 'FirstPaymentDate', 'MaturityDate_Original','MaturityDate_Last'], \n",
    "        inplace = True)"
   ]
  },
  {
   "cell_type": "code",
   "execution_count": 14,
   "id": "011f2170-419d-4865-bcee-46bfaf511b60",
   "metadata": {},
   "outputs": [
    {
     "data": {
      "text/plain": [
       "(134529, 40)"
      ]
     },
     "execution_count": 14,
     "metadata": {},
     "output_type": "execute_result"
    }
   ],
   "source": [
    "#checking the shape of the data after removing unwanted features\n",
    "df.shape"
   ]
  },
  {
   "cell_type": "code",
   "execution_count": 15,
   "id": "ed21d3eb-88f4-4f00-a8a5-367d73db1486",
   "metadata": {},
   "outputs": [
    {
     "data": {
      "text/html": [
       "<div>\n",
       "<style scoped>\n",
       "    .dataframe tbody tr th:only-of-type {\n",
       "        vertical-align: middle;\n",
       "    }\n",
       "\n",
       "    .dataframe tbody tr th {\n",
       "        vertical-align: top;\n",
       "    }\n",
       "\n",
       "    .dataframe thead th {\n",
       "        text-align: right;\n",
       "    }\n",
       "</style>\n",
       "<table border=\"1\" class=\"dataframe\">\n",
       "  <thead>\n",
       "    <tr style=\"text-align: right;\">\n",
       "      <th></th>\n",
       "      <th>BidsPortfolioManager</th>\n",
       "      <th>BidsApi</th>\n",
       "      <th>BidsManual</th>\n",
       "      <th>NewCreditCustomer</th>\n",
       "      <th>VerificationType</th>\n",
       "      <th>LanguageCode</th>\n",
       "      <th>Age</th>\n",
       "      <th>Gender</th>\n",
       "      <th>Country</th>\n",
       "      <th>AppliedAmount</th>\n",
       "      <th>Amount</th>\n",
       "      <th>Interest</th>\n",
       "      <th>LoanDuration</th>\n",
       "      <th>MonthlyPayment</th>\n",
       "      <th>UseOfLoan</th>\n",
       "      <th>Education</th>\n",
       "      <th>MaritalStatus</th>\n",
       "      <th>EmploymentStatus</th>\n",
       "      <th>EmploymentDurationCurrentEmployer</th>\n",
       "      <th>OccupationArea</th>\n",
       "      <th>HomeOwnershipType</th>\n",
       "      <th>IncomeTotal</th>\n",
       "      <th>ExistingLiabilities</th>\n",
       "      <th>LiabilitiesTotal</th>\n",
       "      <th>RefinanceLiabilities</th>\n",
       "      <th>DebtToIncome</th>\n",
       "      <th>FreeCash</th>\n",
       "      <th>DefaultDate</th>\n",
       "      <th>Rating</th>\n",
       "      <th>Status</th>\n",
       "      <th>Restructured</th>\n",
       "      <th>CreditScoreEsMicroL</th>\n",
       "      <th>PrincipalPaymentsMade</th>\n",
       "      <th>InterestAndPenaltyPaymentsMade</th>\n",
       "      <th>PrincipalBalance</th>\n",
       "      <th>InterestAndPenaltyBalance</th>\n",
       "      <th>NoOfPreviousLoansBeforeLoan</th>\n",
       "      <th>AmountOfPreviousLoansBeforeLoan</th>\n",
       "      <th>PreviousRepaymentsBeforeLoan</th>\n",
       "      <th>PreviousEarlyRepaymentsCountBeforeLoan</th>\n",
       "    </tr>\n",
       "  </thead>\n",
       "  <tbody>\n",
       "    <tr>\n",
       "      <th>0</th>\n",
       "      <td>0</td>\n",
       "      <td>0</td>\n",
       "      <td>115.0410</td>\n",
       "      <td>True</td>\n",
       "      <td>2.0</td>\n",
       "      <td>1</td>\n",
       "      <td>61</td>\n",
       "      <td>1.0</td>\n",
       "      <td>EE</td>\n",
       "      <td>319.5582</td>\n",
       "      <td>115.0408</td>\n",
       "      <td>30.0</td>\n",
       "      <td>12</td>\n",
       "      <td>NaN</td>\n",
       "      <td>7</td>\n",
       "      <td>3.0</td>\n",
       "      <td>1.0</td>\n",
       "      <td>3.0</td>\n",
       "      <td>UpTo3Years</td>\n",
       "      <td>7.0</td>\n",
       "      <td>NaN</td>\n",
       "      <td>10500.0</td>\n",
       "      <td>0</td>\n",
       "      <td>0.0</td>\n",
       "      <td>0</td>\n",
       "      <td>0.0</td>\n",
       "      <td>0.0</td>\n",
       "      <td>NaN</td>\n",
       "      <td>NaN</td>\n",
       "      <td>Repaid</td>\n",
       "      <td>False</td>\n",
       "      <td>NaN</td>\n",
       "      <td>115.0408</td>\n",
       "      <td>20.4222</td>\n",
       "      <td>0.00</td>\n",
       "      <td>0.00</td>\n",
       "      <td>1</td>\n",
       "      <td>83.0852</td>\n",
       "      <td>0.0000</td>\n",
       "      <td>0</td>\n",
       "    </tr>\n",
       "    <tr>\n",
       "      <th>1</th>\n",
       "      <td>0</td>\n",
       "      <td>0</td>\n",
       "      <td>140.6057</td>\n",
       "      <td>False</td>\n",
       "      <td>2.0</td>\n",
       "      <td>1</td>\n",
       "      <td>48</td>\n",
       "      <td>1.0</td>\n",
       "      <td>EE</td>\n",
       "      <td>191.7349</td>\n",
       "      <td>140.6057</td>\n",
       "      <td>25.0</td>\n",
       "      <td>1</td>\n",
       "      <td>NaN</td>\n",
       "      <td>7</td>\n",
       "      <td>5.0</td>\n",
       "      <td>4.0</td>\n",
       "      <td>3.0</td>\n",
       "      <td>MoreThan5Years</td>\n",
       "      <td>16.0</td>\n",
       "      <td>NaN</td>\n",
       "      <td>10800.0</td>\n",
       "      <td>0</td>\n",
       "      <td>0.0</td>\n",
       "      <td>0</td>\n",
       "      <td>0.0</td>\n",
       "      <td>0.0</td>\n",
       "      <td>NaN</td>\n",
       "      <td>NaN</td>\n",
       "      <td>Repaid</td>\n",
       "      <td>False</td>\n",
       "      <td>NaN</td>\n",
       "      <td>140.6057</td>\n",
       "      <td>2.0227</td>\n",
       "      <td>0.00</td>\n",
       "      <td>0.00</td>\n",
       "      <td>2</td>\n",
       "      <td>255.6467</td>\n",
       "      <td>258.6256</td>\n",
       "      <td>0</td>\n",
       "    </tr>\n",
       "    <tr>\n",
       "      <th>2</th>\n",
       "      <td>0</td>\n",
       "      <td>0</td>\n",
       "      <td>319.5580</td>\n",
       "      <td>True</td>\n",
       "      <td>2.0</td>\n",
       "      <td>1</td>\n",
       "      <td>58</td>\n",
       "      <td>1.0</td>\n",
       "      <td>EE</td>\n",
       "      <td>319.5582</td>\n",
       "      <td>319.5409</td>\n",
       "      <td>25.0</td>\n",
       "      <td>20</td>\n",
       "      <td>NaN</td>\n",
       "      <td>2</td>\n",
       "      <td>4.0</td>\n",
       "      <td>1.0</td>\n",
       "      <td>3.0</td>\n",
       "      <td>UpTo4Years</td>\n",
       "      <td>9.0</td>\n",
       "      <td>NaN</td>\n",
       "      <td>7000.0</td>\n",
       "      <td>0</td>\n",
       "      <td>0.0</td>\n",
       "      <td>0</td>\n",
       "      <td>0.0</td>\n",
       "      <td>0.0</td>\n",
       "      <td>2012-07-16</td>\n",
       "      <td>NaN</td>\n",
       "      <td>Late</td>\n",
       "      <td>True</td>\n",
       "      <td>NaN</td>\n",
       "      <td>203.1909</td>\n",
       "      <td>59.7626</td>\n",
       "      <td>116.35</td>\n",
       "      <td>414.07</td>\n",
       "      <td>0</td>\n",
       "      <td>0.0000</td>\n",
       "      <td>0.0000</td>\n",
       "      <td>0</td>\n",
       "    </tr>\n",
       "    <tr>\n",
       "      <th>3</th>\n",
       "      <td>0</td>\n",
       "      <td>0</td>\n",
       "      <td>57.5205</td>\n",
       "      <td>True</td>\n",
       "      <td>2.0</td>\n",
       "      <td>1</td>\n",
       "      <td>23</td>\n",
       "      <td>1.0</td>\n",
       "      <td>EE</td>\n",
       "      <td>127.8233</td>\n",
       "      <td>57.5205</td>\n",
       "      <td>45.0</td>\n",
       "      <td>15</td>\n",
       "      <td>NaN</td>\n",
       "      <td>0</td>\n",
       "      <td>2.0</td>\n",
       "      <td>3.0</td>\n",
       "      <td>NaN</td>\n",
       "      <td>UpTo2Years</td>\n",
       "      <td>1.0</td>\n",
       "      <td>NaN</td>\n",
       "      <td>11600.0</td>\n",
       "      <td>0</td>\n",
       "      <td>0.0</td>\n",
       "      <td>0</td>\n",
       "      <td>0.0</td>\n",
       "      <td>0.0</td>\n",
       "      <td>NaN</td>\n",
       "      <td>NaN</td>\n",
       "      <td>Repaid</td>\n",
       "      <td>False</td>\n",
       "      <td>NaN</td>\n",
       "      <td>57.5205</td>\n",
       "      <td>18.7323</td>\n",
       "      <td>0.00</td>\n",
       "      <td>0.00</td>\n",
       "      <td>1</td>\n",
       "      <td>134.2144</td>\n",
       "      <td>0.0000</td>\n",
       "      <td>0</td>\n",
       "    </tr>\n",
       "    <tr>\n",
       "      <th>4</th>\n",
       "      <td>0</td>\n",
       "      <td>0</td>\n",
       "      <td>319.5582</td>\n",
       "      <td>True</td>\n",
       "      <td>2.0</td>\n",
       "      <td>1</td>\n",
       "      <td>25</td>\n",
       "      <td>1.0</td>\n",
       "      <td>EE</td>\n",
       "      <td>319.5582</td>\n",
       "      <td>319.5436</td>\n",
       "      <td>30.0</td>\n",
       "      <td>12</td>\n",
       "      <td>NaN</td>\n",
       "      <td>6</td>\n",
       "      <td>4.0</td>\n",
       "      <td>2.0</td>\n",
       "      <td>3.0</td>\n",
       "      <td>UpTo2Years</td>\n",
       "      <td>7.0</td>\n",
       "      <td>NaN</td>\n",
       "      <td>6800.0</td>\n",
       "      <td>0</td>\n",
       "      <td>0.0</td>\n",
       "      <td>0</td>\n",
       "      <td>0.0</td>\n",
       "      <td>0.0</td>\n",
       "      <td>2009-09-28</td>\n",
       "      <td>NaN</td>\n",
       "      <td>Repaid</td>\n",
       "      <td>False</td>\n",
       "      <td>NaN</td>\n",
       "      <td>319.5436</td>\n",
       "      <td>220.4200</td>\n",
       "      <td>0.00</td>\n",
       "      <td>0.00</td>\n",
       "      <td>1</td>\n",
       "      <td>146.9966</td>\n",
       "      <td>0.0000</td>\n",
       "      <td>0</td>\n",
       "    </tr>\n",
       "  </tbody>\n",
       "</table>\n",
       "</div>"
      ],
      "text/plain": [
       "   BidsPortfolioManager  BidsApi  BidsManual  NewCreditCustomer  \\\n",
       "0                     0        0    115.0410               True   \n",
       "1                     0        0    140.6057              False   \n",
       "2                     0        0    319.5580               True   \n",
       "3                     0        0     57.5205               True   \n",
       "4                     0        0    319.5582               True   \n",
       "\n",
       "   VerificationType  LanguageCode  Age  Gender Country  AppliedAmount  \\\n",
       "0               2.0             1   61     1.0      EE       319.5582   \n",
       "1               2.0             1   48     1.0      EE       191.7349   \n",
       "2               2.0             1   58     1.0      EE       319.5582   \n",
       "3               2.0             1   23     1.0      EE       127.8233   \n",
       "4               2.0             1   25     1.0      EE       319.5582   \n",
       "\n",
       "     Amount  Interest  LoanDuration  MonthlyPayment  UseOfLoan  Education  \\\n",
       "0  115.0408      30.0            12             NaN          7        3.0   \n",
       "1  140.6057      25.0             1             NaN          7        5.0   \n",
       "2  319.5409      25.0            20             NaN          2        4.0   \n",
       "3   57.5205      45.0            15             NaN          0        2.0   \n",
       "4  319.5436      30.0            12             NaN          6        4.0   \n",
       "\n",
       "   MaritalStatus  EmploymentStatus EmploymentDurationCurrentEmployer  \\\n",
       "0            1.0               3.0                        UpTo3Years   \n",
       "1            4.0               3.0                    MoreThan5Years   \n",
       "2            1.0               3.0                        UpTo4Years   \n",
       "3            3.0               NaN                        UpTo2Years   \n",
       "4            2.0               3.0                        UpTo2Years   \n",
       "\n",
       "   OccupationArea  HomeOwnershipType  IncomeTotal  ExistingLiabilities  \\\n",
       "0             7.0                NaN      10500.0                    0   \n",
       "1            16.0                NaN      10800.0                    0   \n",
       "2             9.0                NaN       7000.0                    0   \n",
       "3             1.0                NaN      11600.0                    0   \n",
       "4             7.0                NaN       6800.0                    0   \n",
       "\n",
       "   LiabilitiesTotal  RefinanceLiabilities  DebtToIncome  FreeCash DefaultDate  \\\n",
       "0               0.0                     0           0.0       0.0         NaN   \n",
       "1               0.0                     0           0.0       0.0         NaN   \n",
       "2               0.0                     0           0.0       0.0  2012-07-16   \n",
       "3               0.0                     0           0.0       0.0         NaN   \n",
       "4               0.0                     0           0.0       0.0  2009-09-28   \n",
       "\n",
       "  Rating  Status  Restructured CreditScoreEsMicroL  PrincipalPaymentsMade  \\\n",
       "0    NaN  Repaid         False                 NaN               115.0408   \n",
       "1    NaN  Repaid         False                 NaN               140.6057   \n",
       "2    NaN    Late          True                 NaN               203.1909   \n",
       "3    NaN  Repaid         False                 NaN                57.5205   \n",
       "4    NaN  Repaid         False                 NaN               319.5436   \n",
       "\n",
       "   InterestAndPenaltyPaymentsMade  PrincipalBalance  \\\n",
       "0                         20.4222              0.00   \n",
       "1                          2.0227              0.00   \n",
       "2                         59.7626            116.35   \n",
       "3                         18.7323              0.00   \n",
       "4                        220.4200              0.00   \n",
       "\n",
       "   InterestAndPenaltyBalance  NoOfPreviousLoansBeforeLoan  \\\n",
       "0                       0.00                            1   \n",
       "1                       0.00                            2   \n",
       "2                     414.07                            0   \n",
       "3                       0.00                            1   \n",
       "4                       0.00                            1   \n",
       "\n",
       "   AmountOfPreviousLoansBeforeLoan  PreviousRepaymentsBeforeLoan  \\\n",
       "0                          83.0852                        0.0000   \n",
       "1                         255.6467                      258.6256   \n",
       "2                           0.0000                        0.0000   \n",
       "3                         134.2144                        0.0000   \n",
       "4                         146.9966                        0.0000   \n",
       "\n",
       "   PreviousEarlyRepaymentsCountBeforeLoan  \n",
       "0                                       0  \n",
       "1                                       0  \n",
       "2                                       0  \n",
       "3                                       0  \n",
       "4                                       0  "
      ]
     },
     "execution_count": 15,
     "metadata": {},
     "output_type": "execute_result"
    }
   ],
   "source": [
    "df.head()"
   ]
  },
  {
   "cell_type": "code",
   "execution_count": 16,
   "id": "b2b0d4cb-dbd7-4078-ab06-46ecfe66b291",
   "metadata": {},
   "outputs": [
    {
     "data": {
      "text/plain": [
       "Status\n",
       "Current    57135\n",
       "Late       45772\n",
       "Repaid     31622\n",
       "Name: count, dtype: int64"
      ]
     },
     "execution_count": 16,
     "metadata": {},
     "output_type": "execute_result"
    }
   ],
   "source": [
    "df['Status'].value_counts()"
   ]
  },
  {
   "cell_type": "code",
   "execution_count": 17,
   "id": "75be239e-c1cf-41d2-9396-2f1756ba6a87",
   "metadata": {},
   "outputs": [
    {
     "data": {
      "text/plain": [
       "Status\n",
       "Late      45772\n",
       "Repaid    31622\n",
       "Name: count, dtype: int64"
      ]
     },
     "execution_count": 17,
     "metadata": {},
     "output_type": "execute_result"
    }
   ],
   "source": [
    "# filtering out Current Status records\n",
    "df = df[df.Status != 'Current']\n",
    "df.Status.value_counts()"
   ]
  },
  {
   "cell_type": "code",
   "execution_count": 18,
   "id": "2ec671c4-3057-46e2-8fb6-39113148aba4",
   "metadata": {},
   "outputs": [],
   "source": [
    "df['Loan_Status'] = np.where(df['DefaultDate'].isna(), 0, 1)"
   ]
  },
  {
   "cell_type": "code",
   "execution_count": 20,
   "id": "17442feb-e830-48cf-b346-3dc0b16eb9d3",
   "metadata": {},
   "outputs": [
    {
     "data": {
      "text/plain": [
       "Loan_Status\n",
       "1    42794\n",
       "0    34600\n",
       "Name: count, dtype: int64"
      ]
     },
     "execution_count": 20,
     "metadata": {},
     "output_type": "execute_result"
    }
   ],
   "source": [
    "df['Loan_Status'].value_counts()"
   ]
  },
  {
   "cell_type": "code",
   "execution_count": 21,
   "id": "290a2c4f-9e45-4d09-a1a0-d97d766f28ea",
   "metadata": {},
   "outputs": [],
   "source": [
    "# let's drop the status columns\n",
    "df.drop(columns=['Status','DefaultDate'], inplace = True)"
   ]
  },
  {
   "cell_type": "code",
   "execution_count": 22,
   "id": "b3e4b1aa-e948-4b2e-81e2-555a1800a5b6",
   "metadata": {},
   "outputs": [
    {
     "data": {
      "text/html": [
       "<div>\n",
       "<style scoped>\n",
       "    .dataframe tbody tr th:only-of-type {\n",
       "        vertical-align: middle;\n",
       "    }\n",
       "\n",
       "    .dataframe tbody tr th {\n",
       "        vertical-align: top;\n",
       "    }\n",
       "\n",
       "    .dataframe thead th {\n",
       "        text-align: right;\n",
       "    }\n",
       "</style>\n",
       "<table border=\"1\" class=\"dataframe\">\n",
       "  <thead>\n",
       "    <tr style=\"text-align: right;\">\n",
       "      <th></th>\n",
       "      <th>BidsPortfolioManager</th>\n",
       "      <th>BidsApi</th>\n",
       "      <th>BidsManual</th>\n",
       "      <th>NewCreditCustomer</th>\n",
       "      <th>VerificationType</th>\n",
       "      <th>LanguageCode</th>\n",
       "      <th>Age</th>\n",
       "      <th>Gender</th>\n",
       "      <th>Country</th>\n",
       "      <th>AppliedAmount</th>\n",
       "      <th>Amount</th>\n",
       "      <th>Interest</th>\n",
       "      <th>LoanDuration</th>\n",
       "      <th>MonthlyPayment</th>\n",
       "      <th>UseOfLoan</th>\n",
       "      <th>Education</th>\n",
       "      <th>MaritalStatus</th>\n",
       "      <th>EmploymentStatus</th>\n",
       "      <th>EmploymentDurationCurrentEmployer</th>\n",
       "      <th>OccupationArea</th>\n",
       "      <th>HomeOwnershipType</th>\n",
       "      <th>IncomeTotal</th>\n",
       "      <th>ExistingLiabilities</th>\n",
       "      <th>LiabilitiesTotal</th>\n",
       "      <th>RefinanceLiabilities</th>\n",
       "      <th>DebtToIncome</th>\n",
       "      <th>FreeCash</th>\n",
       "      <th>Rating</th>\n",
       "      <th>Restructured</th>\n",
       "      <th>CreditScoreEsMicroL</th>\n",
       "      <th>PrincipalPaymentsMade</th>\n",
       "      <th>InterestAndPenaltyPaymentsMade</th>\n",
       "      <th>PrincipalBalance</th>\n",
       "      <th>InterestAndPenaltyBalance</th>\n",
       "      <th>NoOfPreviousLoansBeforeLoan</th>\n",
       "      <th>AmountOfPreviousLoansBeforeLoan</th>\n",
       "      <th>PreviousRepaymentsBeforeLoan</th>\n",
       "      <th>PreviousEarlyRepaymentsCountBeforeLoan</th>\n",
       "      <th>Loan_Status</th>\n",
       "    </tr>\n",
       "  </thead>\n",
       "  <tbody>\n",
       "    <tr>\n",
       "      <th>0</th>\n",
       "      <td>0</td>\n",
       "      <td>0</td>\n",
       "      <td>115.0410</td>\n",
       "      <td>True</td>\n",
       "      <td>2.0</td>\n",
       "      <td>1</td>\n",
       "      <td>61</td>\n",
       "      <td>1.0</td>\n",
       "      <td>EE</td>\n",
       "      <td>319.5582</td>\n",
       "      <td>115.0408</td>\n",
       "      <td>30.0</td>\n",
       "      <td>12</td>\n",
       "      <td>NaN</td>\n",
       "      <td>7</td>\n",
       "      <td>3.0</td>\n",
       "      <td>1.0</td>\n",
       "      <td>3.0</td>\n",
       "      <td>UpTo3Years</td>\n",
       "      <td>7.0</td>\n",
       "      <td>NaN</td>\n",
       "      <td>10500.0</td>\n",
       "      <td>0</td>\n",
       "      <td>0.0</td>\n",
       "      <td>0</td>\n",
       "      <td>0.0</td>\n",
       "      <td>0.0</td>\n",
       "      <td>NaN</td>\n",
       "      <td>False</td>\n",
       "      <td>NaN</td>\n",
       "      <td>115.0408</td>\n",
       "      <td>20.4222</td>\n",
       "      <td>0.00</td>\n",
       "      <td>0.00</td>\n",
       "      <td>1</td>\n",
       "      <td>83.0852</td>\n",
       "      <td>0.0000</td>\n",
       "      <td>0</td>\n",
       "      <td>0</td>\n",
       "    </tr>\n",
       "    <tr>\n",
       "      <th>1</th>\n",
       "      <td>0</td>\n",
       "      <td>0</td>\n",
       "      <td>140.6057</td>\n",
       "      <td>False</td>\n",
       "      <td>2.0</td>\n",
       "      <td>1</td>\n",
       "      <td>48</td>\n",
       "      <td>1.0</td>\n",
       "      <td>EE</td>\n",
       "      <td>191.7349</td>\n",
       "      <td>140.6057</td>\n",
       "      <td>25.0</td>\n",
       "      <td>1</td>\n",
       "      <td>NaN</td>\n",
       "      <td>7</td>\n",
       "      <td>5.0</td>\n",
       "      <td>4.0</td>\n",
       "      <td>3.0</td>\n",
       "      <td>MoreThan5Years</td>\n",
       "      <td>16.0</td>\n",
       "      <td>NaN</td>\n",
       "      <td>10800.0</td>\n",
       "      <td>0</td>\n",
       "      <td>0.0</td>\n",
       "      <td>0</td>\n",
       "      <td>0.0</td>\n",
       "      <td>0.0</td>\n",
       "      <td>NaN</td>\n",
       "      <td>False</td>\n",
       "      <td>NaN</td>\n",
       "      <td>140.6057</td>\n",
       "      <td>2.0227</td>\n",
       "      <td>0.00</td>\n",
       "      <td>0.00</td>\n",
       "      <td>2</td>\n",
       "      <td>255.6467</td>\n",
       "      <td>258.6256</td>\n",
       "      <td>0</td>\n",
       "      <td>0</td>\n",
       "    </tr>\n",
       "    <tr>\n",
       "      <th>2</th>\n",
       "      <td>0</td>\n",
       "      <td>0</td>\n",
       "      <td>319.5580</td>\n",
       "      <td>True</td>\n",
       "      <td>2.0</td>\n",
       "      <td>1</td>\n",
       "      <td>58</td>\n",
       "      <td>1.0</td>\n",
       "      <td>EE</td>\n",
       "      <td>319.5582</td>\n",
       "      <td>319.5409</td>\n",
       "      <td>25.0</td>\n",
       "      <td>20</td>\n",
       "      <td>NaN</td>\n",
       "      <td>2</td>\n",
       "      <td>4.0</td>\n",
       "      <td>1.0</td>\n",
       "      <td>3.0</td>\n",
       "      <td>UpTo4Years</td>\n",
       "      <td>9.0</td>\n",
       "      <td>NaN</td>\n",
       "      <td>7000.0</td>\n",
       "      <td>0</td>\n",
       "      <td>0.0</td>\n",
       "      <td>0</td>\n",
       "      <td>0.0</td>\n",
       "      <td>0.0</td>\n",
       "      <td>NaN</td>\n",
       "      <td>True</td>\n",
       "      <td>NaN</td>\n",
       "      <td>203.1909</td>\n",
       "      <td>59.7626</td>\n",
       "      <td>116.35</td>\n",
       "      <td>414.07</td>\n",
       "      <td>0</td>\n",
       "      <td>0.0000</td>\n",
       "      <td>0.0000</td>\n",
       "      <td>0</td>\n",
       "      <td>1</td>\n",
       "    </tr>\n",
       "    <tr>\n",
       "      <th>3</th>\n",
       "      <td>0</td>\n",
       "      <td>0</td>\n",
       "      <td>57.5205</td>\n",
       "      <td>True</td>\n",
       "      <td>2.0</td>\n",
       "      <td>1</td>\n",
       "      <td>23</td>\n",
       "      <td>1.0</td>\n",
       "      <td>EE</td>\n",
       "      <td>127.8233</td>\n",
       "      <td>57.5205</td>\n",
       "      <td>45.0</td>\n",
       "      <td>15</td>\n",
       "      <td>NaN</td>\n",
       "      <td>0</td>\n",
       "      <td>2.0</td>\n",
       "      <td>3.0</td>\n",
       "      <td>NaN</td>\n",
       "      <td>UpTo2Years</td>\n",
       "      <td>1.0</td>\n",
       "      <td>NaN</td>\n",
       "      <td>11600.0</td>\n",
       "      <td>0</td>\n",
       "      <td>0.0</td>\n",
       "      <td>0</td>\n",
       "      <td>0.0</td>\n",
       "      <td>0.0</td>\n",
       "      <td>NaN</td>\n",
       "      <td>False</td>\n",
       "      <td>NaN</td>\n",
       "      <td>57.5205</td>\n",
       "      <td>18.7323</td>\n",
       "      <td>0.00</td>\n",
       "      <td>0.00</td>\n",
       "      <td>1</td>\n",
       "      <td>134.2144</td>\n",
       "      <td>0.0000</td>\n",
       "      <td>0</td>\n",
       "      <td>0</td>\n",
       "    </tr>\n",
       "    <tr>\n",
       "      <th>4</th>\n",
       "      <td>0</td>\n",
       "      <td>0</td>\n",
       "      <td>319.5582</td>\n",
       "      <td>True</td>\n",
       "      <td>2.0</td>\n",
       "      <td>1</td>\n",
       "      <td>25</td>\n",
       "      <td>1.0</td>\n",
       "      <td>EE</td>\n",
       "      <td>319.5582</td>\n",
       "      <td>319.5436</td>\n",
       "      <td>30.0</td>\n",
       "      <td>12</td>\n",
       "      <td>NaN</td>\n",
       "      <td>6</td>\n",
       "      <td>4.0</td>\n",
       "      <td>2.0</td>\n",
       "      <td>3.0</td>\n",
       "      <td>UpTo2Years</td>\n",
       "      <td>7.0</td>\n",
       "      <td>NaN</td>\n",
       "      <td>6800.0</td>\n",
       "      <td>0</td>\n",
       "      <td>0.0</td>\n",
       "      <td>0</td>\n",
       "      <td>0.0</td>\n",
       "      <td>0.0</td>\n",
       "      <td>NaN</td>\n",
       "      <td>False</td>\n",
       "      <td>NaN</td>\n",
       "      <td>319.5436</td>\n",
       "      <td>220.4200</td>\n",
       "      <td>0.00</td>\n",
       "      <td>0.00</td>\n",
       "      <td>1</td>\n",
       "      <td>146.9966</td>\n",
       "      <td>0.0000</td>\n",
       "      <td>0</td>\n",
       "      <td>1</td>\n",
       "    </tr>\n",
       "  </tbody>\n",
       "</table>\n",
       "</div>"
      ],
      "text/plain": [
       "   BidsPortfolioManager  BidsApi  BidsManual  NewCreditCustomer  \\\n",
       "0                     0        0    115.0410               True   \n",
       "1                     0        0    140.6057              False   \n",
       "2                     0        0    319.5580               True   \n",
       "3                     0        0     57.5205               True   \n",
       "4                     0        0    319.5582               True   \n",
       "\n",
       "   VerificationType  LanguageCode  Age  Gender Country  AppliedAmount  \\\n",
       "0               2.0             1   61     1.0      EE       319.5582   \n",
       "1               2.0             1   48     1.0      EE       191.7349   \n",
       "2               2.0             1   58     1.0      EE       319.5582   \n",
       "3               2.0             1   23     1.0      EE       127.8233   \n",
       "4               2.0             1   25     1.0      EE       319.5582   \n",
       "\n",
       "     Amount  Interest  LoanDuration  MonthlyPayment  UseOfLoan  Education  \\\n",
       "0  115.0408      30.0            12             NaN          7        3.0   \n",
       "1  140.6057      25.0             1             NaN          7        5.0   \n",
       "2  319.5409      25.0            20             NaN          2        4.0   \n",
       "3   57.5205      45.0            15             NaN          0        2.0   \n",
       "4  319.5436      30.0            12             NaN          6        4.0   \n",
       "\n",
       "   MaritalStatus  EmploymentStatus EmploymentDurationCurrentEmployer  \\\n",
       "0            1.0               3.0                        UpTo3Years   \n",
       "1            4.0               3.0                    MoreThan5Years   \n",
       "2            1.0               3.0                        UpTo4Years   \n",
       "3            3.0               NaN                        UpTo2Years   \n",
       "4            2.0               3.0                        UpTo2Years   \n",
       "\n",
       "   OccupationArea  HomeOwnershipType  IncomeTotal  ExistingLiabilities  \\\n",
       "0             7.0                NaN      10500.0                    0   \n",
       "1            16.0                NaN      10800.0                    0   \n",
       "2             9.0                NaN       7000.0                    0   \n",
       "3             1.0                NaN      11600.0                    0   \n",
       "4             7.0                NaN       6800.0                    0   \n",
       "\n",
       "   LiabilitiesTotal  RefinanceLiabilities  DebtToIncome  FreeCash Rating  \\\n",
       "0               0.0                     0           0.0       0.0    NaN   \n",
       "1               0.0                     0           0.0       0.0    NaN   \n",
       "2               0.0                     0           0.0       0.0    NaN   \n",
       "3               0.0                     0           0.0       0.0    NaN   \n",
       "4               0.0                     0           0.0       0.0    NaN   \n",
       "\n",
       "   Restructured CreditScoreEsMicroL  PrincipalPaymentsMade  \\\n",
       "0         False                 NaN               115.0408   \n",
       "1         False                 NaN               140.6057   \n",
       "2          True                 NaN               203.1909   \n",
       "3         False                 NaN                57.5205   \n",
       "4         False                 NaN               319.5436   \n",
       "\n",
       "   InterestAndPenaltyPaymentsMade  PrincipalBalance  \\\n",
       "0                         20.4222              0.00   \n",
       "1                          2.0227              0.00   \n",
       "2                         59.7626            116.35   \n",
       "3                         18.7323              0.00   \n",
       "4                        220.4200              0.00   \n",
       "\n",
       "   InterestAndPenaltyBalance  NoOfPreviousLoansBeforeLoan  \\\n",
       "0                       0.00                            1   \n",
       "1                       0.00                            2   \n",
       "2                     414.07                            0   \n",
       "3                       0.00                            1   \n",
       "4                       0.00                            1   \n",
       "\n",
       "   AmountOfPreviousLoansBeforeLoan  PreviousRepaymentsBeforeLoan  \\\n",
       "0                          83.0852                        0.0000   \n",
       "1                         255.6467                      258.6256   \n",
       "2                           0.0000                        0.0000   \n",
       "3                         134.2144                        0.0000   \n",
       "4                         146.9966                        0.0000   \n",
       "\n",
       "   PreviousEarlyRepaymentsCountBeforeLoan  Loan_Status  \n",
       "0                                       0            0  \n",
       "1                                       0            0  \n",
       "2                                       0            1  \n",
       "3                                       0            0  \n",
       "4                                       0            1  "
      ]
     },
     "execution_count": 22,
     "metadata": {},
     "output_type": "execute_result"
    }
   ],
   "source": [
    "df.head()"
   ]
  },
  {
   "cell_type": "code",
   "execution_count": 23,
   "id": "44295732-5022-454c-9687-09f52aff3aac",
   "metadata": {},
   "outputs": [
    {
     "data": {
      "text/plain": [
       "BidsPortfolioManager                        int64\n",
       "BidsApi                                     int64\n",
       "BidsManual                                float64\n",
       "NewCreditCustomer                            bool\n",
       "VerificationType                          float64\n",
       "LanguageCode                                int64\n",
       "Age                                         int64\n",
       "Gender                                    float64\n",
       "Country                                    object\n",
       "AppliedAmount                             float64\n",
       "Amount                                    float64\n",
       "Interest                                  float64\n",
       "LoanDuration                                int64\n",
       "MonthlyPayment                            float64\n",
       "UseOfLoan                                   int64\n",
       "Education                                 float64\n",
       "MaritalStatus                             float64\n",
       "EmploymentStatus                          float64\n",
       "EmploymentDurationCurrentEmployer          object\n",
       "OccupationArea                            float64\n",
       "HomeOwnershipType                         float64\n",
       "IncomeTotal                               float64\n",
       "ExistingLiabilities                         int64\n",
       "LiabilitiesTotal                          float64\n",
       "RefinanceLiabilities                        int64\n",
       "DebtToIncome                              float64\n",
       "FreeCash                                  float64\n",
       "Rating                                     object\n",
       "Restructured                                 bool\n",
       "CreditScoreEsMicroL                        object\n",
       "PrincipalPaymentsMade                     float64\n",
       "InterestAndPenaltyPaymentsMade            float64\n",
       "PrincipalBalance                          float64\n",
       "InterestAndPenaltyBalance                 float64\n",
       "NoOfPreviousLoansBeforeLoan                 int64\n",
       "AmountOfPreviousLoansBeforeLoan           float64\n",
       "PreviousRepaymentsBeforeLoan              float64\n",
       "PreviousEarlyRepaymentsCountBeforeLoan      int64\n",
       "Loan_Status                                 int32\n",
       "dtype: object"
      ]
     },
     "execution_count": 23,
     "metadata": {},
     "output_type": "execute_result"
    }
   ],
   "source": [
    "df.dtypes"
   ]
  },
  {
   "cell_type": "code",
   "execution_count": 24,
   "id": "2d1dd5c4-a451-4e6b-b718-d7b106a1884a",
   "metadata": {},
   "outputs": [],
   "source": [
    "# Replace Null values by 'Not Set'\n",
    "df.VerificationType.fillna('Not Set', inplace = True)"
   ]
  },
  {
   "cell_type": "code",
   "execution_count": 25,
   "id": "df8e1b91-49b7-4f89-b4c5-303650b8c625",
   "metadata": {},
   "outputs": [],
   "source": [
    "# convert from float type to string first\n",
    "df['VerificationType'] = df['VerificationType'].astype(object)\n",
    "\n",
    "for i in range(len(df.VerificationType.values)):\n",
    "    df.VerificationType.values[i] = str(df.VerificationType.values[i])"
   ]
  },
  {
   "cell_type": "code",
   "execution_count": 26,
   "id": "425b71d3-b00f-47b8-9ee0-fbff6d71aa92",
   "metadata": {},
   "outputs": [
    {
     "data": {
      "text/plain": [
       "(dtype('O'), str)"
      ]
     },
     "execution_count": 26,
     "metadata": {},
     "output_type": "execute_result"
    }
   ],
   "source": [
    "df.VerificationType.dtype, type(df.VerificationType.values[0])\n"
   ]
  },
  {
   "cell_type": "code",
   "execution_count": 27,
   "id": "c007d849-0316-40fe-88ac-5280b366047a",
   "metadata": {},
   "outputs": [],
   "source": [
    "# From Bonora dataser we can find that:\n",
    "# 0 Not set, 1 Income unverified, 2 Income unverified, cross-referenced by phone, 3 Income verified \n",
    "df.VerificationType = df.VerificationType.str.replace('0.0', 'Not Set')\n",
    "df.VerificationType = df.VerificationType.str.replace('1.0', 'Income unverified')\n",
    "df.VerificationType = df.VerificationType.str.replace('2.0', 'Income unverified,cross-referenced by phone')\n",
    "df.VerificationType = df.VerificationType.str.replace('3.0', 'Income verified')\n",
    "df.VerificationType = df.VerificationType.str.replace('4.0', 'Income and expenses verified')"
   ]
  },
  {
   "cell_type": "code",
   "execution_count": 28,
   "id": "3c535310-594e-4941-8329-427760b21b41",
   "metadata": {},
   "outputs": [
    {
     "data": {
      "text/plain": [
       "VerificationType\n",
       "Income and expenses verified                   41428\n",
       "Income unverified                              25626\n",
       "Income verified                                 8460\n",
       "Income unverified,cross-referenced by phone     1827\n",
       "Not Set                                           53\n",
       "Name: count, dtype: int64"
      ]
     },
     "execution_count": 28,
     "metadata": {},
     "output_type": "execute_result"
    }
   ],
   "source": [
    "df.VerificationType.value_counts()"
   ]
  },
  {
   "cell_type": "code",
   "execution_count": 29,
   "id": "f4669f46-09f8-448c-a262-6a883bf6f287",
   "metadata": {},
   "outputs": [
    {
     "data": {
      "text/plain": [
       "Gender\n",
       "0.0    50697\n",
       "1.0    20927\n",
       "2.0     5725\n",
       "Name: count, dtype: int64"
      ]
     },
     "execution_count": 29,
     "metadata": {},
     "output_type": "execute_result"
    }
   ],
   "source": [
    "df.Gender.value_counts()"
   ]
  },
  {
   "cell_type": "code",
   "execution_count": 30,
   "id": "e19f96fa-8f4d-436f-952e-153b8eaa910e",
   "metadata": {},
   "outputs": [],
   "source": [
    "# Replace Null values by Undefined\n",
    "df.Gender.fillna('Undefined', inplace = True)"
   ]
  },
  {
   "cell_type": "code",
   "execution_count": 31,
   "id": "70762d41-e73b-464f-a345-ec2e8b7d6e7b",
   "metadata": {},
   "outputs": [],
   "source": [
    "df['Gender'] = df['Gender'].astype(object)\n",
    "\n",
    "for i in range(len(df.Gender.values)):\n",
    "    df.Gender.values[i] = str(df.Gender.values[i])"
   ]
  },
  {
   "cell_type": "code",
   "execution_count": 32,
   "id": "9dd5da35-85b6-467f-99df-d672a54a80ca",
   "metadata": {},
   "outputs": [
    {
     "data": {
      "text/plain": [
       "(dtype('O'), str)"
      ]
     },
     "execution_count": 32,
     "metadata": {},
     "output_type": "execute_result"
    }
   ],
   "source": [
    "df.Gender.dtype, type(df.Gender.values[0])"
   ]
  },
  {
   "cell_type": "code",
   "execution_count": 34,
   "id": "b71c5767-fe2f-43e1-86e1-ddb7ec4c8251",
   "metadata": {},
   "outputs": [
    {
     "data": {
      "text/plain": [
       "Gender\n",
       "Male         50697\n",
       "Female       20927\n",
       "Undefined     5770\n",
       "Name: count, dtype: int64"
      ]
     },
     "execution_count": 34,
     "metadata": {},
     "output_type": "execute_result"
    }
   ],
   "source": [
    "df.Gender = df.Gender.str.replace('0.0', 'Male')\n",
    "df.Gender = df.Gender.str.replace('1.0', 'Female')\n",
    "df.Gender = df.Gender.str.replace('2.0', 'Undefined')\n",
    "df.Gender.value_counts()"
   ]
  },
  {
   "cell_type": "code",
   "execution_count": 35,
   "id": "6a1e400d-5a4e-4d25-b8da-4199796470a0",
   "metadata": {},
   "outputs": [
    {
     "data": {
      "text/plain": [
       "LanguageCode\n",
       "1     33239\n",
       "4     20302\n",
       "6     16407\n",
       "3      6534\n",
       "2       603\n",
       "9       293\n",
       "22        6\n",
       "5         5\n",
       "15        1\n",
       "10        1\n",
       "13        1\n",
       "7         1\n",
       "21        1\n",
       "Name: count, dtype: int64"
      ]
     },
     "execution_count": 35,
     "metadata": {},
     "output_type": "execute_result"
    }
   ],
   "source": [
    "df.LanguageCode.value_counts()"
   ]
  },
  {
   "cell_type": "code",
   "execution_count": 36,
   "id": "d4013605-1883-4c67-85ca-3fe420c9a354",
   "metadata": {},
   "outputs": [],
   "source": [
    "df.LanguageCode = df.LanguageCode.astype(object)\n",
    "\n",
    "for i in range(len(df.LanguageCode.values)):\n",
    "    df.LanguageCode.values[i] = str(df.LanguageCode.values[i])"
   ]
  },
  {
   "cell_type": "code",
   "execution_count": 37,
   "id": "0335860a-eff7-4fb9-94d4-db7d8cabc276",
   "metadata": {},
   "outputs": [
    {
     "data": {
      "text/plain": [
       "(dtype('O'), str)"
      ]
     },
     "execution_count": 37,
     "metadata": {},
     "output_type": "execute_result"
    }
   ],
   "source": [
    "\n",
    "df.LanguageCode.dtype, type(df.LanguageCode.values[0])"
   ]
  },
  {
   "cell_type": "code",
   "execution_count": 38,
   "id": "9a3450c1-07cf-4437-9b3e-3ddbed08e5a0",
   "metadata": {},
   "outputs": [
    {
     "data": {
      "text/plain": [
       "LanguageCode\n",
       "1     33239\n",
       "4     20302\n",
       "6     16407\n",
       "3      6534\n",
       "2       603\n",
       "9       293\n",
       "22        6\n",
       "5         5\n",
       "15        1\n",
       "10        1\n",
       "13        1\n",
       "7         1\n",
       "21        1\n",
       "Name: count, dtype: int64"
      ]
     },
     "execution_count": 38,
     "metadata": {},
     "output_type": "execute_result"
    }
   ],
   "source": [
    "df.LanguageCode.value_counts()"
   ]
  },
  {
   "cell_type": "code",
   "execution_count": 39,
   "id": "40b34d23-efcb-4c89-be52-1ab275cf3bd6",
   "metadata": {},
   "outputs": [
    {
     "data": {
      "text/plain": [
       "LanguageCode\n",
       "Estonian     33239\n",
       "Finnish      20302\n",
       "Spanish      16407\n",
       "Russian       6534\n",
       "English        603\n",
       "Slovakian      293\n",
       "Other           11\n",
       "German           5\n",
       "Name: count, dtype: int64"
      ]
     },
     "execution_count": 39,
     "metadata": {},
     "output_type": "execute_result"
    }
   ],
   "source": [
    "df.LanguageCode = df.LanguageCode.str.replace('7',  'Other')\n",
    "df.LanguageCode = df.LanguageCode.str.replace('10', 'Other')\n",
    "df.LanguageCode = df.LanguageCode.str.replace('13', 'Other')\n",
    "df.LanguageCode = df.LanguageCode.str.replace('15', 'Other')\n",
    "df.LanguageCode = df.LanguageCode.str.replace('21', 'Other')\n",
    "df.LanguageCode = df.LanguageCode.str.replace('22', 'Other')\n",
    "df.LanguageCode = df.LanguageCode.str.replace('1', 'Estonian')\n",
    "df.LanguageCode = df.LanguageCode.str.replace('2', 'English')\n",
    "df.LanguageCode = df.LanguageCode.str.replace('3', 'Russian')\n",
    "df.LanguageCode = df.LanguageCode.str.replace('4', 'Finnish')\n",
    "df.LanguageCode = df.LanguageCode.str.replace('5', 'German')\n",
    "df.LanguageCode = df.LanguageCode.str.replace('6', 'Spanish')\n",
    "df.LanguageCode = df.LanguageCode.str.replace('9', 'Slovakian')\n",
    "df.LanguageCode.value_counts()"
   ]
  },
  {
   "cell_type": "code",
   "execution_count": 40,
   "id": "f39d22e4-e0b1-4415-a1ba-1d7a17413707",
   "metadata": {},
   "outputs": [
    {
     "data": {
      "text/plain": [
       "UseOfLoan\n",
       "-1      44177\n",
       " 7       8926\n",
       " 2       8102\n",
       " 0       6419\n",
       " 6       2884\n",
       " 3       1743\n",
       " 5       1621\n",
       " 8       1367\n",
       " 4       1259\n",
       " 1        843\n",
       " 102       21\n",
       " 110       17\n",
       " 104        6\n",
       " 101        5\n",
       " 107        2\n",
       " 108        1\n",
       " 106        1\n",
       "Name: count, dtype: int64"
      ]
     },
     "execution_count": 40,
     "metadata": {},
     "output_type": "execute_result"
    }
   ],
   "source": [
    "df.UseOfLoan.value_counts()"
   ]
  },
  {
   "cell_type": "code",
   "execution_count": 41,
   "id": "6254ee0e-24b9-4733-80e2-8a9c35ca0e7c",
   "metadata": {},
   "outputs": [],
   "source": [
    "df.UseOfLoan = df.UseOfLoan.astype(object)\n",
    "\n",
    "for i in range(len(df.UseOfLoan.values)):\n",
    "    df.UseOfLoan.values[i] = str(df.UseOfLoan.values[i])"
   ]
  },
  {
   "cell_type": "code",
   "execution_count": 42,
   "id": "32e42a7d-f6ef-452c-bc33-ad10e62e0ffc",
   "metadata": {},
   "outputs": [
    {
     "data": {
      "text/plain": [
       "(dtype('O'), str)"
      ]
     },
     "execution_count": 42,
     "metadata": {},
     "output_type": "execute_result"
    }
   ],
   "source": [
    "df.UseOfLoan.dtype, type(df.UseOfLoan.values[0])"
   ]
  },
  {
   "cell_type": "code",
   "execution_count": 43,
   "id": "baa4d68d-b038-47d2-9d93-55c3393bdc7c",
   "metadata": {},
   "outputs": [
    {
     "data": {
      "text/plain": [
       "UseOfLoan\n",
       "Not Set                              44177\n",
       "Other                                 8926\n",
       "Home improvement                      8102\n",
       "Loan consolidation                    6419\n",
       "Vehicle                               2884\n",
       "Business                              1743\n",
       "Travel                                1621\n",
       "Health                                1367\n",
       "Education                             1259\n",
       "Real estate                            843\n",
       "Purchase of machinery equipment         21\n",
       "Other business                          17\n",
       "Accounts receivable financing            6\n",
       "Working capital financing                5\n",
       "Acquisition of stocks                    2\n",
       "Acquisition of real estate               1\n",
       "Acquisition of means of transport        1\n",
       "Name: count, dtype: int64"
      ]
     },
     "execution_count": 43,
     "metadata": {},
     "output_type": "execute_result"
    }
   ],
   "source": [
    "df.UseOfLoan = df.UseOfLoan.str.replace('102', 'Purchase of machinery equipment')\n",
    "df.UseOfLoan = df.UseOfLoan.str.replace('110', 'Other business')\n",
    "df.UseOfLoan = df.UseOfLoan.str.replace('104', 'Accounts receivable financing')\n",
    "df.UseOfLoan = df.UseOfLoan.str.replace('101', 'Working capital financing')\n",
    "df.UseOfLoan = df.UseOfLoan.str.replace('107', 'Acquisition of stocks')\n",
    "df.UseOfLoan = df.UseOfLoan.str.replace('106', 'Acquisition of means of transport')\n",
    "df.UseOfLoan = df.UseOfLoan.str.replace('108', 'Acquisition of real estate')\n",
    "\n",
    "df.UseOfLoan = df.UseOfLoan.str.replace('-1',  'Not Set')\n",
    "df.UseOfLoan = df.UseOfLoan.str.replace('0',   'Loan consolidation')\n",
    "df.UseOfLoan = df.UseOfLoan.str.replace('1',   'Real estate')\n",
    "df.UseOfLoan = df.UseOfLoan.str.replace('2',   'Home improvement')\n",
    "df.UseOfLoan = df.UseOfLoan.str.replace('3',   'Business')\n",
    "df.UseOfLoan = df.UseOfLoan.str.replace('4',   'Education')\n",
    "df.UseOfLoan = df.UseOfLoan.str.replace('5',   'Travel')\n",
    "df.UseOfLoan = df.UseOfLoan.str.replace('6',   'Vehicle')\n",
    "df.UseOfLoan = df.UseOfLoan.str.replace('7',   'Other')\n",
    "df.UseOfLoan = df.UseOfLoan.str.replace('8',   'Health')\n",
    "df.UseOfLoan.value_counts()"
   ]
  },
  {
   "cell_type": "code",
   "execution_count": 44,
   "id": "958c594b-16e6-4ebe-a61b-7de9dd404876",
   "metadata": {},
   "outputs": [],
   "source": [
    "df.Education.fillna('Not Present', inplace = True)"
   ]
  },
  {
   "cell_type": "code",
   "execution_count": 45,
   "id": "de992094-c841-47bc-9e3b-d5bef96dd1cb",
   "metadata": {},
   "outputs": [
    {
     "data": {
      "text/plain": [
       "Education\n",
       "4.0            28557\n",
       "5.0            20919\n",
       "3.0            17257\n",
       "2.0             5379\n",
       "1.0             5226\n",
       "Not Present       45\n",
       "0.0                8\n",
       "-1.0               3\n",
       "Name: count, dtype: int64"
      ]
     },
     "execution_count": 45,
     "metadata": {},
     "output_type": "execute_result"
    }
   ],
   "source": [
    "df.Education.value_counts()"
   ]
  },
  {
   "cell_type": "code",
   "execution_count": 46,
   "id": "9c29d532-2204-40d7-87b7-b45110a2f4f2",
   "metadata": {},
   "outputs": [],
   "source": [
    "df.Education = df.Education.astype(object)\n",
    "\n",
    "for i in range(len(df.Education.values)):\n",
    "    df.Education.values[i] = str(df.Education.values[i])"
   ]
  },
  {
   "cell_type": "code",
   "execution_count": 50,
   "id": "f9408550-c543-41af-885e-ec41b73d8a0b",
   "metadata": {},
   "outputs": [
    {
     "data": {
      "text/plain": [
       "Education\n",
       "Secondary education     28557\n",
       "Higher education        20919\n",
       "Vocational education    17257\n",
       "Basic education          5379\n",
       "Primary education        5226\n",
       "Not Present                56\n",
       "Name: count, dtype: int64"
      ]
     },
     "execution_count": 50,
     "metadata": {},
     "output_type": "execute_result"
    }
   ],
   "source": [
    "df.Education = df.Education.str.replace('-1.0',  'Not Present')\n",
    "df.Education = df.Education.str.replace('0.0',   'Not Present')\n",
    "df.Education = df.Education.str.replace('1.0',   'Primary education')\n",
    "df.Education = df.Education.str.replace('2.0',   'Basic education')\n",
    "df.Education = df.Education.str.replace('3.0',   'Vocational education')\n",
    "df.Education = df.Education.str.replace('4.0',   'Secondary education')\n",
    "df.Education = df.Education.str.replace('5.0',   'Higher education')\n",
    "df.Education.value_counts()"
   ]
  },
  {
   "cell_type": "code",
   "execution_count": 48,
   "id": "45f6ec89-4373-49cb-9b9a-7232a22cd945",
   "metadata": {},
   "outputs": [
    {
     "data": {
      "text/plain": [
       "MaritalStatus\n",
       "-1.0    44177\n",
       " 3.0    11504\n",
       " 1.0     9585\n",
       " 2.0     8479\n",
       " 4.0     3077\n",
       " 5.0      519\n",
       " 0.0        8\n",
       "Name: count, dtype: int64"
      ]
     },
     "execution_count": 48,
     "metadata": {},
     "output_type": "execute_result"
    }
   ],
   "source": [
    "df.MaritalStatus.value_counts()"
   ]
  },
  {
   "cell_type": "code",
   "execution_count": 49,
   "id": "b1487c8e-28d5-4641-bedd-8bb5331ef5b7",
   "metadata": {},
   "outputs": [],
   "source": [
    "df.MaritalStatus.fillna('Not Specified', inplace = True)"
   ]
  },
  {
   "cell_type": "code",
   "execution_count": 51,
   "id": "ecdcfdca-c616-4c7e-8055-b7eee89b330e",
   "metadata": {},
   "outputs": [],
   "source": [
    "df.MaritalStatus = df.MaritalStatus.astype(object)\n",
    "for i in range(len(df.MaritalStatus.values)):\n",
    "    df.MaritalStatus.values[i] = str(df.MaritalStatus.values[i])"
   ]
  },
  {
   "cell_type": "code",
   "execution_count": 52,
   "id": "18831fb5-9a05-4b50-a345-60624e39e9ad",
   "metadata": {},
   "outputs": [
    {
     "data": {
      "text/plain": [
       "MaritalStatus\n",
       "Not Specified    44230\n",
       "Single           11504\n",
       "Married           9585\n",
       "Cohabitant        8479\n",
       "Divorced          3077\n",
       "Widow              519\n",
       "Name: count, dtype: int64"
      ]
     },
     "execution_count": 52,
     "metadata": {},
     "output_type": "execute_result"
    }
   ],
   "source": [
    "df.MaritalStatus = df.MaritalStatus.str.replace('-1.0',  'Not Specified')\n",
    "df.MaritalStatus = df.MaritalStatus.str.replace('0.0',   'Not Specified')\n",
    "df.MaritalStatus = df.MaritalStatus.str.replace('1.0',   'Married')\n",
    "df.MaritalStatus = df.MaritalStatus.str.replace('2.0',   'Cohabitant')\n",
    "df.MaritalStatus = df.MaritalStatus.str.replace('3.0',   'Single')\n",
    "df.MaritalStatus = df.MaritalStatus.str.replace('4.0',   'Divorced')\n",
    "df.MaritalStatus = df.MaritalStatus.str.replace('5.0',   'Widow')\n",
    "df.MaritalStatus.value_counts()"
   ]
  },
  {
   "cell_type": "code",
   "execution_count": 53,
   "id": "3634bcf5-845a-4365-b39e-244c02f2fbd7",
   "metadata": {},
   "outputs": [
    {
     "data": {
      "text/plain": [
       "EmploymentStatus\n",
       "-1.0    44177\n",
       " 3.0    27309\n",
       " 5.0     1695\n",
       " 6.0     1663\n",
       " 4.0     1211\n",
       " 2.0     1110\n",
       " 0.0       32\n",
       "Name: count, dtype: int64"
      ]
     },
     "execution_count": 53,
     "metadata": {},
     "output_type": "execute_result"
    }
   ],
   "source": [
    "df.EmploymentStatus.value_counts()"
   ]
  },
  {
   "cell_type": "code",
   "execution_count": 54,
   "id": "b0ce1e4f-7e14-47ec-b75d-529c2a6b8991",
   "metadata": {},
   "outputs": [],
   "source": [
    "df.EmploymentStatus.fillna('Not present', inplace = True)"
   ]
  },
  {
   "cell_type": "code",
   "execution_count": 55,
   "id": "829f9b9c-13f3-4886-a5d3-f2cfaf5b2b82",
   "metadata": {},
   "outputs": [],
   "source": [
    "df.EmploymentStatus = df.EmploymentStatus.astype(object)\n",
    "for i in range(len(df.EmploymentStatus.values)):\n",
    "    df.EmploymentStatus.values[i] = str(df.EmploymentStatus.values[i])"
   ]
  },
  {
   "cell_type": "code",
   "execution_count": 56,
   "id": "38230be0-0fc2-4daa-959b-09a3c7a077ea",
   "metadata": {},
   "outputs": [
    {
     "data": {
      "text/plain": [
       "EmploymentStatus\n",
       "Not present           44406\n",
       "Fully employed        27309\n",
       "Entrepreneur           1695\n",
       "Retiree                1663\n",
       "Self-employed          1211\n",
       "Partially employed     1110\n",
       "Name: count, dtype: int64"
      ]
     },
     "execution_count": 56,
     "metadata": {},
     "output_type": "execute_result"
    }
   ],
   "source": [
    "df.EmploymentStatus = df.EmploymentStatus.str.replace('-1.0',  'Not present')\n",
    "df.EmploymentStatus = df.EmploymentStatus.str.replace('0.0',   'Not present')\n",
    "df.EmploymentStatus = df.EmploymentStatus.str.replace('2.0',   'Partially employed')\n",
    "df.EmploymentStatus = df.EmploymentStatus.str.replace('3.0',   'Fully employed')\n",
    "df.EmploymentStatus = df.EmploymentStatus.str.replace('4.0',   'Self-employed')\n",
    "df.EmploymentStatus = df.EmploymentStatus.str.replace('5.0',   'Entrepreneur')\n",
    "df.EmploymentStatus = df.EmploymentStatus.str.replace('6.0',   'Retiree')\n",
    "df.EmploymentStatus.value_counts()"
   ]
  },
  {
   "cell_type": "code",
   "execution_count": 57,
   "id": "4a1cad20-9741-4249-8935-76286167f62e",
   "metadata": {},
   "outputs": [
    {
     "data": {
      "text/plain": [
       "NewCreditCustomer\n",
       "True     48867\n",
       "False    28527\n",
       "Name: count, dtype: int64"
      ]
     },
     "execution_count": 57,
     "metadata": {},
     "output_type": "execute_result"
    }
   ],
   "source": [
    "df.NewCreditCustomer.value_counts()"
   ]
  },
  {
   "cell_type": "code",
   "execution_count": 58,
   "id": "e07ea188-d544-4911-aab8-4b5686b769c2",
   "metadata": {},
   "outputs": [],
   "source": [
    "df.NewCreditCustomer = df.NewCreditCustomer.astype(object)\n",
    "\n",
    "for i in range(len(df.NewCreditCustomer.values)):\n",
    "    df.NewCreditCustomer.values[i] = str(df.NewCreditCustomer.values[i])"
   ]
  },
  {
   "cell_type": "code",
   "execution_count": 59,
   "id": "8012ea0e-ddc6-4105-b316-3ef5354de202",
   "metadata": {},
   "outputs": [
    {
     "data": {
      "text/plain": [
       "Restructured\n",
       "False    61885\n",
       "True     15509\n",
       "Name: count, dtype: int64"
      ]
     },
     "execution_count": 59,
     "metadata": {},
     "output_type": "execute_result"
    }
   ],
   "source": [
    "df.Restructured.value_counts()"
   ]
  },
  {
   "cell_type": "code",
   "execution_count": 60,
   "id": "9e78aea0-2e35-4d36-98d0-de7348da9d88",
   "metadata": {},
   "outputs": [],
   "source": [
    "df.Restructured = df.Restructured.astype(object)\n",
    "for i in range(len(df.Restructured.values)):\n",
    "    df.Restructured.values[i] = str(df.Restructured.values[i])"
   ]
  },
  {
   "cell_type": "code",
   "execution_count": 61,
   "id": "964ecf5d-54a3-4a13-bceb-4581674fbfaa",
   "metadata": {},
   "outputs": [],
   "source": [
    "df.OccupationArea.fillna('Not present', inplace = True)"
   ]
  },
  {
   "cell_type": "code",
   "execution_count": 62,
   "id": "deab9828-8077-4c6a-b6af-583afe9177e6",
   "metadata": {},
   "outputs": [
    {
     "data": {
      "text/plain": [
       "OccupationArea\n",
       "-1.0           44228\n",
       "1.0             7640\n",
       "7.0             3207\n",
       "6.0             3007\n",
       "3.0             2876\n",
       "8.0             2276\n",
       "17.0            2186\n",
       "9.0             2106\n",
       "10.0            1782\n",
       "15.0            1555\n",
       "16.0            1251\n",
       "11.0            1054\n",
       "19.0             893\n",
       "14.0             798\n",
       "4.0              530\n",
       "18.0             524\n",
       "13.0             493\n",
       "12.0             433\n",
       "5.0              342\n",
       "2.0              116\n",
       "Not present       86\n",
       "0.0               11\n",
       "Name: count, dtype: int64"
      ]
     },
     "execution_count": 62,
     "metadata": {},
     "output_type": "execute_result"
    }
   ],
   "source": [
    "df.OccupationArea.value_counts()"
   ]
  },
  {
   "cell_type": "code",
   "execution_count": 63,
   "id": "2f404cf0-3625-44ea-95b6-6d50e98c0c38",
   "metadata": {},
   "outputs": [],
   "source": [
    "df.OccupationArea = df.OccupationArea.astype(object)\n",
    "\n",
    "for i in range(len(df.OccupationArea.values)):\n",
    "    df.OccupationArea.values[i] = str(df.OccupationArea.values[i])"
   ]
  },
  {
   "cell_type": "code",
   "execution_count": 64,
   "id": "ed721c57-2109-4395-8efb-e0883a0d21b9",
   "metadata": {},
   "outputs": [
    {
     "data": {
      "text/plain": [
       "OccupationArea\n",
       "Not present                          44325\n",
       "Other                                 7640\n",
       "Retail and wholesale                  3207\n",
       "Construction                          3007\n",
       "Processing                            2876\n",
       "Transport and warehousing             2276\n",
       "Healthcare and social help            2186\n",
       "Hospitality and catering              2106\n",
       "Info and telecom                      1782\n",
       "Civil service & military              1555\n",
       "Education                             1251\n",
       "Finance and insurance                 1054\n",
       "Agriculture, forestry and fishing      893\n",
       "Administrative                         798\n",
       "Energy                                 530\n",
       "Art and entertainment                  524\n",
       "Research                               493\n",
       "Real-estate                            433\n",
       "Utilities                              342\n",
       "Mining                                 116\n",
       "Name: count, dtype: int64"
      ]
     },
     "execution_count": 64,
     "metadata": {},
     "output_type": "execute_result"
    }
   ],
   "source": [
    "df.OccupationArea = df.OccupationArea.str.replace('10.0', 'Info and telecom')\n",
    "df.OccupationArea = df.OccupationArea.str.replace('11.0', 'Finance and insurance')\n",
    "df.OccupationArea = df.OccupationArea.str.replace('12.0', 'Real-estate')\n",
    "df.OccupationArea = df.OccupationArea.str.replace('13.0', 'Research')\n",
    "df.OccupationArea = df.OccupationArea.str.replace('14.0', 'Administrative')\n",
    "df.OccupationArea = df.OccupationArea.str.replace('15.0', 'Civil service & military')\n",
    "df.OccupationArea = df.OccupationArea.str.replace('16.0', 'Education')\n",
    "df.OccupationArea = df.OccupationArea.str.replace('17.0', 'Healthcare and social help')\n",
    "df.OccupationArea = df.OccupationArea.str.replace('18.0', 'Art and entertainment')\n",
    "df.OccupationArea = df.OccupationArea.str.replace('19.0', 'Agriculture, forestry and fishing')\n",
    "df.OccupationArea = df.OccupationArea.str.replace('-1.0', 'Not present')\n",
    "df.OccupationArea = df.OccupationArea.str.replace('0.0',  'Not present')\n",
    "df.OccupationArea = df.OccupationArea.str.replace('1.0', 'Other')\n",
    "df.OccupationArea = df.OccupationArea.str.replace('2.0', 'Mining')\n",
    "df.OccupationArea = df.OccupationArea.str.replace('3.0', 'Processing')\n",
    "df.OccupationArea = df.OccupationArea.str.replace('4.0', 'Energy')\n",
    "df.OccupationArea = df.OccupationArea.str.replace('5.0', 'Utilities')\n",
    "df.OccupationArea = df.OccupationArea.str.replace('6.0', 'Construction')\n",
    "df.OccupationArea = df.OccupationArea.str.replace('7.0', 'Retail and wholesale')\n",
    "df.OccupationArea = df.OccupationArea.str.replace('8.0', 'Transport and warehousing')\n",
    "df.OccupationArea = df.OccupationArea.str.replace('9.0',  'Hospitality and catering')\n",
    "df.OccupationArea.value_counts()"
   ]
  },
  {
   "cell_type": "code",
   "execution_count": 65,
   "id": "2be457f9-8dd5-44ad-a351-d62c2b752946",
   "metadata": {},
   "outputs": [
    {
     "data": {
      "text/plain": [
       "HomeOwnershipType\n",
       " 1.0     24594\n",
       " 3.0     16842\n",
       " 2.0     12776\n",
       " 8.0      8762\n",
       " 4.0      4031\n",
       " 10.0     3179\n",
       " 7.0      2701\n",
       " 6.0      1362\n",
       " 5.0       882\n",
       " 9.0       565\n",
       " 0.0        46\n",
       "-1.0         2\n",
       "Name: count, dtype: int64"
      ]
     },
     "execution_count": 65,
     "metadata": {},
     "output_type": "execute_result"
    }
   ],
   "source": [
    "df.HomeOwnershipType.value_counts()"
   ]
  },
  {
   "cell_type": "code",
   "execution_count": 66,
   "id": "43aff83f-a770-404d-b084-6858985c01db",
   "metadata": {},
   "outputs": [],
   "source": [
    "df.HomeOwnershipType.fillna(\"Not specified\", inplace = True)"
   ]
  },
  {
   "cell_type": "code",
   "execution_count": 67,
   "id": "c9b5d711-db9f-4b4d-bbfa-6458ad9a0e15",
   "metadata": {},
   "outputs": [],
   "source": [
    "df.HomeOwnershipType = df.HomeOwnershipType.astype(object)\n",
    "\n",
    "for i in range(len(df.HomeOwnershipType.values)):\n",
    "    df.HomeOwnershipType.values[i] = str(df.HomeOwnershipType.values[i])"
   ]
  },
  {
   "cell_type": "code",
   "execution_count": 68,
   "id": "0ef95a67-b3ab-42db-aa86-7d7ddc9c29e0",
   "metadata": {},
   "outputs": [
    {
     "data": {
      "text/plain": [
       "HomeOwnershipType\n",
       "Owner                            24594\n",
       "Tenant,pre-furnished property    20873\n",
       "Living with parents              12776\n",
       "Mortgage                          8762\n",
       "Other                             3179\n",
       "Joint ownership                   2701\n",
       "Not specified                     1654\n",
       "Joint tenant                      1362\n",
       "Council house                      882\n",
       "Owner with encumbrance             565\n",
       "Homeless                            46\n",
       "Name: count, dtype: int64"
      ]
     },
     "execution_count": 68,
     "metadata": {},
     "output_type": "execute_result"
    }
   ],
   "source": [
    "df.HomeOwnershipType = df.HomeOwnershipType.str.replace('10.0', 'Other')\n",
    "df.HomeOwnershipType = df.HomeOwnershipType.str.replace('-1.0', 'Not specified')\n",
    "df.HomeOwnershipType = df.HomeOwnershipType.str.replace('0.0',  'Homeless')\n",
    "df.HomeOwnershipType = df.HomeOwnershipType.str.replace('1.0', 'Owner')\n",
    "df.HomeOwnershipType = df.HomeOwnershipType.str.replace('2.0', 'Living with parents')\n",
    "df.HomeOwnershipType = df.HomeOwnershipType.str.replace('3.0', 'Tenant,pre-furnished property')\n",
    "df.HomeOwnershipType = df.HomeOwnershipType.str.replace('4.0', 'Tenant,pre-furnished property')\n",
    "df.HomeOwnershipType = df.HomeOwnershipType.str.replace('5.0', 'Council house')\n",
    "df.HomeOwnershipType = df.HomeOwnershipType.str.replace('6.0', 'Joint tenant')\n",
    "df.HomeOwnershipType = df.HomeOwnershipType.str.replace('7.0', 'Joint ownership')\n",
    "df.HomeOwnershipType = df.HomeOwnershipType.str.replace('8.0', 'Mortgage')\n",
    "df.HomeOwnershipType = df.HomeOwnershipType.str.replace('9.0',  'Owner with encumbrance')\n",
    "df.HomeOwnershipType.value_counts()"
   ]
  },
  {
   "cell_type": "code",
   "execution_count": 69,
   "id": "4833f929-4dea-4856-9444-9296c8f2ec27",
   "metadata": {},
   "outputs": [
    {
     "data": {
      "text/plain": [
       "Rating\n",
       "F     15657\n",
       "HR    13151\n",
       "E     12288\n",
       "D     11772\n",
       "C     10420\n",
       "B      6926\n",
       "A      2819\n",
       "AA     1633\n",
       "Name: count, dtype: int64"
      ]
     },
     "execution_count": 69,
     "metadata": {},
     "output_type": "execute_result"
    }
   ],
   "source": [
    "df.Rating.value_counts()"
   ]
  },
  {
   "cell_type": "code",
   "execution_count": 70,
   "id": "c9e50572-2b57-4f81-973a-4acafc4351c9",
   "metadata": {},
   "outputs": [],
   "source": [
    "df.Rating.fillna('F', inplace = True)"
   ]
  },
  {
   "cell_type": "code",
   "execution_count": 71,
   "id": "84076183-08cb-48c1-a6f1-9d44a041b1d5",
   "metadata": {},
   "outputs": [
    {
     "data": {
      "text/plain": [
       "Rating\n",
       "F     18385\n",
       "HR    13151\n",
       "E     12288\n",
       "D     11772\n",
       "C     10420\n",
       "B      6926\n",
       "A      2819\n",
       "AA     1633\n",
       "Name: count, dtype: int64"
      ]
     },
     "execution_count": 71,
     "metadata": {},
     "output_type": "execute_result"
    }
   ],
   "source": [
    "# Check\n",
    "df.Rating.value_counts()"
   ]
  },
  {
   "cell_type": "code",
   "execution_count": 72,
   "id": "549915bf-9029-4204-bf3b-cc0fa4de31b5",
   "metadata": {},
   "outputs": [
    {
     "data": {
      "text/plain": [
       "CreditScoreEsMicroL\n",
       "M      39217\n",
       "M1      4120\n",
       "M5      2377\n",
       "M2      1617\n",
       "M3      1546\n",
       "M4      1480\n",
       "M6       556\n",
       "M8       102\n",
       "M9        70\n",
       "M7        69\n",
       "M10       54\n",
       "Name: count, dtype: int64"
      ]
     },
     "execution_count": 72,
     "metadata": {},
     "output_type": "execute_result"
    }
   ],
   "source": [
    "df.CreditScoreEsMicroL.value_counts()"
   ]
  },
  {
   "cell_type": "code",
   "execution_count": 73,
   "id": "0c08869c-68ef-4461-90ed-a02f2f2dea54",
   "metadata": {},
   "outputs": [
    {
     "data": {
      "text/plain": [
       "0"
      ]
     },
     "execution_count": 73,
     "metadata": {},
     "output_type": "execute_result"
    }
   ],
   "source": [
    "df.CreditScoreEsMicroL.fillna('M', inplace = True)\n",
    "df.CreditScoreEsMicroL.isnull().sum()"
   ]
  },
  {
   "cell_type": "code",
   "execution_count": 74,
   "id": "84423275-4060-440c-92be-00af627c5ca0",
   "metadata": {},
   "outputs": [],
   "source": [
    "df.EmploymentDurationCurrentEmployer.fillna(\"Other\", inplace = True)"
   ]
  },
  {
   "cell_type": "code",
   "execution_count": 75,
   "id": "709ef677-2cf7-4987-b3ea-c3af667eac0c",
   "metadata": {},
   "outputs": [
    {
     "data": {
      "text/plain": [
       "EmploymentDurationCurrentEmployer\n",
       "MoreThan5Years    29328\n",
       "UpTo1Year         14288\n",
       "UpTo5Years        13777\n",
       "UpTo2Years         5541\n",
       "UpTo3Years         4539\n",
       "Retiree            3344\n",
       "UpTo4Years         3057\n",
       "Other              2901\n",
       "TrialPeriod         619\n",
       "Name: count, dtype: int64"
      ]
     },
     "execution_count": 75,
     "metadata": {},
     "output_type": "execute_result"
    }
   ],
   "source": [
    "df.EmploymentDurationCurrentEmployer.value_counts()\n"
   ]
  },
  {
   "cell_type": "code",
   "execution_count": 76,
   "id": "49bf2e08-48b1-49f9-8bd0-3aff6e1241a6",
   "metadata": {},
   "outputs": [],
   "source": [
    "df.MonthlyPayment.fillna(df.MonthlyPayment.mean(), inplace = True)\n",
    "df.DebtToIncome.fillna(df.DebtToIncome.mean(), inplace = True)\n",
    "df.FreeCash.fillna(df.FreeCash.mean(), inplace = True) \n",
    "df.PreviousRepaymentsBeforeLoan.fillna(df.PreviousRepaymentsBeforeLoan.mean(), inplace = True)"
   ]
  },
  {
   "cell_type": "code",
   "execution_count": 80,
   "id": "1f7eae74-9064-4424-b8a2-1bf55b43e02a",
   "metadata": {},
   "outputs": [],
   "source": [
    "df.to_csv('C://Users//LENOVO//Downloads//Bondora_raw//Bondora_preprocessed_data.csv', index=False)"
   ]
  },
  {
   "cell_type": "code",
   "execution_count": 81,
   "id": "af04fed6-187d-4029-8fa4-19d3ef1e83e7",
   "metadata": {},
   "outputs": [
    {
     "data": {
      "text/plain": [
       "(77394, 39)"
      ]
     },
     "execution_count": 81,
     "metadata": {},
     "output_type": "execute_result"
    }
   ],
   "source": [
    "df.shape"
   ]
  },
  {
   "cell_type": "code",
   "execution_count": null,
   "id": "2dadb1ee-b9aa-483f-a61c-7a08a1c426c4",
   "metadata": {},
   "outputs": [],
   "source": []
  }
 ],
 "metadata": {
  "kernelspec": {
   "display_name": "Python 3 (ipykernel)",
   "language": "python",
   "name": "python3"
  },
  "language_info": {
   "codemirror_mode": {
    "name": "ipython",
    "version": 3
   },
   "file_extension": ".py",
   "mimetype": "text/x-python",
   "name": "python",
   "nbconvert_exporter": "python",
   "pygments_lexer": "ipython3",
   "version": "3.11.7"
  }
 },
 "nbformat": 4,
 "nbformat_minor": 5
}
